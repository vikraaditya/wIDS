{
 "cells": [
  {
   "cell_type": "markdown",
   "id": "cc50defc",
   "metadata": {},
   "source": [
    "#### Import libraries\n"
   ]
  },
  {
   "cell_type": "code",
   "execution_count": 4,
   "id": "bd0de1a6",
   "metadata": {},
   "outputs": [],
   "source": [
    "import pandas as pd\n",
    "import numpy as np\n",
    "import seaborn as sns\n",
    "import matplotlib.pyplot as plt\n",
    "import os\n"
   ]
  },
  {
   "cell_type": "code",
   "execution_count": 6,
   "id": "50bbe89a",
   "metadata": {},
   "outputs": [],
   "source": [
    "df=pd.read_csv('train_wids.csv')"
   ]
  },
  {
   "cell_type": "code",
   "execution_count": 7,
   "id": "8ac6b179",
   "metadata": {},
   "outputs": [
    {
     "data": {
      "text/html": [
       "<div>\n",
       "<style scoped>\n",
       "    .dataframe tbody tr th:only-of-type {\n",
       "        vertical-align: middle;\n",
       "    }\n",
       "\n",
       "    .dataframe tbody tr th {\n",
       "        vertical-align: top;\n",
       "    }\n",
       "\n",
       "    .dataframe thead th {\n",
       "        text-align: right;\n",
       "    }\n",
       "</style>\n",
       "<table border=\"1\" class=\"dataframe\">\n",
       "  <thead>\n",
       "    <tr style=\"text-align: right;\">\n",
       "      <th></th>\n",
       "      <th>Year_Factor</th>\n",
       "      <th>State_Factor</th>\n",
       "      <th>building_class</th>\n",
       "      <th>facility_type</th>\n",
       "      <th>floor_area</th>\n",
       "      <th>year_built</th>\n",
       "      <th>energy_star_rating</th>\n",
       "      <th>ELEVATION</th>\n",
       "      <th>january_min_temp</th>\n",
       "      <th>january_avg_temp</th>\n",
       "      <th>...</th>\n",
       "      <th>days_above_80F</th>\n",
       "      <th>days_above_90F</th>\n",
       "      <th>days_above_100F</th>\n",
       "      <th>days_above_110F</th>\n",
       "      <th>direction_max_wind_speed</th>\n",
       "      <th>direction_peak_wind_speed</th>\n",
       "      <th>max_wind_speed</th>\n",
       "      <th>days_with_fog</th>\n",
       "      <th>site_eui</th>\n",
       "      <th>id</th>\n",
       "    </tr>\n",
       "  </thead>\n",
       "  <tbody>\n",
       "    <tr>\n",
       "      <th>0</th>\n",
       "      <td>1</td>\n",
       "      <td>State_1</td>\n",
       "      <td>Commercial</td>\n",
       "      <td>Grocery_store_or_food_market</td>\n",
       "      <td>61242.0</td>\n",
       "      <td>1942.0</td>\n",
       "      <td>11.0</td>\n",
       "      <td>2.4</td>\n",
       "      <td>36</td>\n",
       "      <td>50.500000</td>\n",
       "      <td>...</td>\n",
       "      <td>14</td>\n",
       "      <td>0</td>\n",
       "      <td>0</td>\n",
       "      <td>0</td>\n",
       "      <td>1.0</td>\n",
       "      <td>1.0</td>\n",
       "      <td>1.0</td>\n",
       "      <td>NaN</td>\n",
       "      <td>248.682615</td>\n",
       "      <td>0</td>\n",
       "    </tr>\n",
       "    <tr>\n",
       "      <th>1</th>\n",
       "      <td>1</td>\n",
       "      <td>State_1</td>\n",
       "      <td>Commercial</td>\n",
       "      <td>Warehouse_Distribution_or_Shipping_center</td>\n",
       "      <td>274000.0</td>\n",
       "      <td>1955.0</td>\n",
       "      <td>45.0</td>\n",
       "      <td>1.8</td>\n",
       "      <td>36</td>\n",
       "      <td>50.500000</td>\n",
       "      <td>...</td>\n",
       "      <td>14</td>\n",
       "      <td>0</td>\n",
       "      <td>0</td>\n",
       "      <td>0</td>\n",
       "      <td>1.0</td>\n",
       "      <td>NaN</td>\n",
       "      <td>1.0</td>\n",
       "      <td>12.0</td>\n",
       "      <td>26.500150</td>\n",
       "      <td>1</td>\n",
       "    </tr>\n",
       "    <tr>\n",
       "      <th>2</th>\n",
       "      <td>1</td>\n",
       "      <td>State_1</td>\n",
       "      <td>Commercial</td>\n",
       "      <td>Retail_Enclosed_mall</td>\n",
       "      <td>280025.0</td>\n",
       "      <td>1951.0</td>\n",
       "      <td>97.0</td>\n",
       "      <td>1.8</td>\n",
       "      <td>36</td>\n",
       "      <td>50.500000</td>\n",
       "      <td>...</td>\n",
       "      <td>14</td>\n",
       "      <td>0</td>\n",
       "      <td>0</td>\n",
       "      <td>0</td>\n",
       "      <td>1.0</td>\n",
       "      <td>NaN</td>\n",
       "      <td>1.0</td>\n",
       "      <td>12.0</td>\n",
       "      <td>24.693619</td>\n",
       "      <td>2</td>\n",
       "    </tr>\n",
       "    <tr>\n",
       "      <th>3</th>\n",
       "      <td>1</td>\n",
       "      <td>State_1</td>\n",
       "      <td>Commercial</td>\n",
       "      <td>Education_Other_classroom</td>\n",
       "      <td>55325.0</td>\n",
       "      <td>1980.0</td>\n",
       "      <td>46.0</td>\n",
       "      <td>1.8</td>\n",
       "      <td>36</td>\n",
       "      <td>50.500000</td>\n",
       "      <td>...</td>\n",
       "      <td>14</td>\n",
       "      <td>0</td>\n",
       "      <td>0</td>\n",
       "      <td>0</td>\n",
       "      <td>1.0</td>\n",
       "      <td>NaN</td>\n",
       "      <td>1.0</td>\n",
       "      <td>12.0</td>\n",
       "      <td>48.406926</td>\n",
       "      <td>3</td>\n",
       "    </tr>\n",
       "    <tr>\n",
       "      <th>4</th>\n",
       "      <td>1</td>\n",
       "      <td>State_1</td>\n",
       "      <td>Commercial</td>\n",
       "      <td>Warehouse_Nonrefrigerated</td>\n",
       "      <td>66000.0</td>\n",
       "      <td>1985.0</td>\n",
       "      <td>100.0</td>\n",
       "      <td>2.4</td>\n",
       "      <td>36</td>\n",
       "      <td>50.500000</td>\n",
       "      <td>...</td>\n",
       "      <td>14</td>\n",
       "      <td>0</td>\n",
       "      <td>0</td>\n",
       "      <td>0</td>\n",
       "      <td>1.0</td>\n",
       "      <td>1.0</td>\n",
       "      <td>1.0</td>\n",
       "      <td>NaN</td>\n",
       "      <td>3.899395</td>\n",
       "      <td>4</td>\n",
       "    </tr>\n",
       "    <tr>\n",
       "      <th>...</th>\n",
       "      <td>...</td>\n",
       "      <td>...</td>\n",
       "      <td>...</td>\n",
       "      <td>...</td>\n",
       "      <td>...</td>\n",
       "      <td>...</td>\n",
       "      <td>...</td>\n",
       "      <td>...</td>\n",
       "      <td>...</td>\n",
       "      <td>...</td>\n",
       "      <td>...</td>\n",
       "      <td>...</td>\n",
       "      <td>...</td>\n",
       "      <td>...</td>\n",
       "      <td>...</td>\n",
       "      <td>...</td>\n",
       "      <td>...</td>\n",
       "      <td>...</td>\n",
       "      <td>...</td>\n",
       "      <td>...</td>\n",
       "      <td>...</td>\n",
       "    </tr>\n",
       "    <tr>\n",
       "      <th>75752</th>\n",
       "      <td>6</td>\n",
       "      <td>State_11</td>\n",
       "      <td>Commercial</td>\n",
       "      <td>Office_Uncategorized</td>\n",
       "      <td>20410.0</td>\n",
       "      <td>1995.0</td>\n",
       "      <td>8.0</td>\n",
       "      <td>36.6</td>\n",
       "      <td>28</td>\n",
       "      <td>43.451613</td>\n",
       "      <td>...</td>\n",
       "      <td>25</td>\n",
       "      <td>3</td>\n",
       "      <td>0</td>\n",
       "      <td>0</td>\n",
       "      <td>NaN</td>\n",
       "      <td>NaN</td>\n",
       "      <td>NaN</td>\n",
       "      <td>NaN</td>\n",
       "      <td>132.918411</td>\n",
       "      <td>75752</td>\n",
       "    </tr>\n",
       "    <tr>\n",
       "      <th>75753</th>\n",
       "      <td>6</td>\n",
       "      <td>State_11</td>\n",
       "      <td>Residential</td>\n",
       "      <td>5plus_Unit_Building</td>\n",
       "      <td>40489.0</td>\n",
       "      <td>1910.0</td>\n",
       "      <td>98.0</td>\n",
       "      <td>36.6</td>\n",
       "      <td>28</td>\n",
       "      <td>43.451613</td>\n",
       "      <td>...</td>\n",
       "      <td>25</td>\n",
       "      <td>3</td>\n",
       "      <td>0</td>\n",
       "      <td>0</td>\n",
       "      <td>NaN</td>\n",
       "      <td>NaN</td>\n",
       "      <td>NaN</td>\n",
       "      <td>NaN</td>\n",
       "      <td>39.483672</td>\n",
       "      <td>75753</td>\n",
       "    </tr>\n",
       "    <tr>\n",
       "      <th>75754</th>\n",
       "      <td>6</td>\n",
       "      <td>State_11</td>\n",
       "      <td>Commercial</td>\n",
       "      <td>Commercial_Other</td>\n",
       "      <td>28072.0</td>\n",
       "      <td>1917.0</td>\n",
       "      <td>NaN</td>\n",
       "      <td>36.6</td>\n",
       "      <td>26</td>\n",
       "      <td>36.612903</td>\n",
       "      <td>...</td>\n",
       "      <td>6</td>\n",
       "      <td>0</td>\n",
       "      <td>0</td>\n",
       "      <td>0</td>\n",
       "      <td>NaN</td>\n",
       "      <td>NaN</td>\n",
       "      <td>NaN</td>\n",
       "      <td>NaN</td>\n",
       "      <td>48.404398</td>\n",
       "      <td>75754</td>\n",
       "    </tr>\n",
       "    <tr>\n",
       "      <th>75755</th>\n",
       "      <td>6</td>\n",
       "      <td>State_11</td>\n",
       "      <td>Commercial</td>\n",
       "      <td>Commercial_Other</td>\n",
       "      <td>53575.0</td>\n",
       "      <td>2012.0</td>\n",
       "      <td>NaN</td>\n",
       "      <td>36.6</td>\n",
       "      <td>26</td>\n",
       "      <td>36.612903</td>\n",
       "      <td>...</td>\n",
       "      <td>6</td>\n",
       "      <td>0</td>\n",
       "      <td>0</td>\n",
       "      <td>0</td>\n",
       "      <td>NaN</td>\n",
       "      <td>NaN</td>\n",
       "      <td>NaN</td>\n",
       "      <td>NaN</td>\n",
       "      <td>592.022750</td>\n",
       "      <td>75755</td>\n",
       "    </tr>\n",
       "    <tr>\n",
       "      <th>75756</th>\n",
       "      <td>6</td>\n",
       "      <td>State_11</td>\n",
       "      <td>Residential</td>\n",
       "      <td>2to4_Unit_Building</td>\n",
       "      <td>23888.0</td>\n",
       "      <td>1974.0</td>\n",
       "      <td>51.0</td>\n",
       "      <td>36.6</td>\n",
       "      <td>27</td>\n",
       "      <td>36.935484</td>\n",
       "      <td>...</td>\n",
       "      <td>16</td>\n",
       "      <td>0</td>\n",
       "      <td>0</td>\n",
       "      <td>0</td>\n",
       "      <td>NaN</td>\n",
       "      <td>NaN</td>\n",
       "      <td>NaN</td>\n",
       "      <td>NaN</td>\n",
       "      <td>29.154684</td>\n",
       "      <td>75756</td>\n",
       "    </tr>\n",
       "  </tbody>\n",
       "</table>\n",
       "<p>75757 rows × 64 columns</p>\n",
       "</div>"
      ],
      "text/plain": [
       "       Year_Factor State_Factor building_class  \\\n",
       "0                1      State_1     Commercial   \n",
       "1                1      State_1     Commercial   \n",
       "2                1      State_1     Commercial   \n",
       "3                1      State_1     Commercial   \n",
       "4                1      State_1     Commercial   \n",
       "...            ...          ...            ...   \n",
       "75752            6     State_11     Commercial   \n",
       "75753            6     State_11    Residential   \n",
       "75754            6     State_11     Commercial   \n",
       "75755            6     State_11     Commercial   \n",
       "75756            6     State_11    Residential   \n",
       "\n",
       "                                   facility_type  floor_area  year_built  \\\n",
       "0                   Grocery_store_or_food_market     61242.0      1942.0   \n",
       "1      Warehouse_Distribution_or_Shipping_center    274000.0      1955.0   \n",
       "2                           Retail_Enclosed_mall    280025.0      1951.0   \n",
       "3                      Education_Other_classroom     55325.0      1980.0   \n",
       "4                      Warehouse_Nonrefrigerated     66000.0      1985.0   \n",
       "...                                          ...         ...         ...   \n",
       "75752                       Office_Uncategorized     20410.0      1995.0   \n",
       "75753                        5plus_Unit_Building     40489.0      1910.0   \n",
       "75754                           Commercial_Other     28072.0      1917.0   \n",
       "75755                           Commercial_Other     53575.0      2012.0   \n",
       "75756                         2to4_Unit_Building     23888.0      1974.0   \n",
       "\n",
       "       energy_star_rating  ELEVATION  january_min_temp  january_avg_temp  ...  \\\n",
       "0                    11.0        2.4                36         50.500000  ...   \n",
       "1                    45.0        1.8                36         50.500000  ...   \n",
       "2                    97.0        1.8                36         50.500000  ...   \n",
       "3                    46.0        1.8                36         50.500000  ...   \n",
       "4                   100.0        2.4                36         50.500000  ...   \n",
       "...                   ...        ...               ...               ...  ...   \n",
       "75752                 8.0       36.6                28         43.451613  ...   \n",
       "75753                98.0       36.6                28         43.451613  ...   \n",
       "75754                 NaN       36.6                26         36.612903  ...   \n",
       "75755                 NaN       36.6                26         36.612903  ...   \n",
       "75756                51.0       36.6                27         36.935484  ...   \n",
       "\n",
       "       days_above_80F  days_above_90F  days_above_100F  days_above_110F  \\\n",
       "0                  14               0                0                0   \n",
       "1                  14               0                0                0   \n",
       "2                  14               0                0                0   \n",
       "3                  14               0                0                0   \n",
       "4                  14               0                0                0   \n",
       "...               ...             ...              ...              ...   \n",
       "75752              25               3                0                0   \n",
       "75753              25               3                0                0   \n",
       "75754               6               0                0                0   \n",
       "75755               6               0                0                0   \n",
       "75756              16               0                0                0   \n",
       "\n",
       "       direction_max_wind_speed  direction_peak_wind_speed  max_wind_speed  \\\n",
       "0                           1.0                        1.0             1.0   \n",
       "1                           1.0                        NaN             1.0   \n",
       "2                           1.0                        NaN             1.0   \n",
       "3                           1.0                        NaN             1.0   \n",
       "4                           1.0                        1.0             1.0   \n",
       "...                         ...                        ...             ...   \n",
       "75752                       NaN                        NaN             NaN   \n",
       "75753                       NaN                        NaN             NaN   \n",
       "75754                       NaN                        NaN             NaN   \n",
       "75755                       NaN                        NaN             NaN   \n",
       "75756                       NaN                        NaN             NaN   \n",
       "\n",
       "       days_with_fog    site_eui     id  \n",
       "0                NaN  248.682615      0  \n",
       "1               12.0   26.500150      1  \n",
       "2               12.0   24.693619      2  \n",
       "3               12.0   48.406926      3  \n",
       "4                NaN    3.899395      4  \n",
       "...              ...         ...    ...  \n",
       "75752            NaN  132.918411  75752  \n",
       "75753            NaN   39.483672  75753  \n",
       "75754            NaN   48.404398  75754  \n",
       "75755            NaN  592.022750  75755  \n",
       "75756            NaN   29.154684  75756  \n",
       "\n",
       "[75757 rows x 64 columns]"
      ]
     },
     "execution_count": 7,
     "metadata": {},
     "output_type": "execute_result"
    }
   ],
   "source": [
    "df"
   ]
  },
  {
   "cell_type": "markdown",
   "id": "9b3638f4",
   "metadata": {},
   "source": [
    "#### Explore -> Data cleaning -> Exploratory data analysis -> model training -> prediction -> accuracy score\n",
    "\n",
    "Data Cleaning \n",
    "1) NaN\n",
    "2) variance analysis "
   ]
  },
  {
   "cell_type": "code",
   "execution_count": 10,
   "id": "ea089717",
   "metadata": {},
   "outputs": [
    {
     "data": {
      "text/plain": [
       "(75757, 64)"
      ]
     },
     "execution_count": 10,
     "metadata": {},
     "output_type": "execute_result"
    }
   ],
   "source": [
    "df.shape"
   ]
  },
  {
   "cell_type": "code",
   "execution_count": 17,
   "id": "6beb8c44",
   "metadata": {},
   "outputs": [
    {
     "ename": "TypeError",
     "evalue": "set_axis() got an unexpected keyword argument 'columns'",
     "output_type": "error",
     "traceback": [
      "\u001b[0;31m---------------------------------------------------------------------------\u001b[0m",
      "\u001b[0;31mTypeError\u001b[0m                                 Traceback (most recent call last)",
      "\u001b[0;32m<ipython-input-17-064ba858f779>\u001b[0m in \u001b[0;36m<module>\u001b[0;34m\u001b[0m\n\u001b[0;32m----> 1\u001b[0;31m \u001b[0mx\u001b[0m\u001b[0;34m=\u001b[0m\u001b[0mpd\u001b[0m\u001b[0;34m.\u001b[0m\u001b[0mDataFrame\u001b[0m\u001b[0;34m(\u001b[0m\u001b[0mdf\u001b[0m\u001b[0;34m.\u001b[0m\u001b[0misnull\u001b[0m\u001b[0;34m(\u001b[0m\u001b[0;34m)\u001b[0m\u001b[0;34m.\u001b[0m\u001b[0msum\u001b[0m\u001b[0;34m(\u001b[0m\u001b[0;34m)\u001b[0m\u001b[0;34m)\u001b[0m\u001b[0;34m.\u001b[0m\u001b[0mreset_index\u001b[0m\u001b[0;34m(\u001b[0m\u001b[0;34m)\u001b[0m\u001b[0;34m.\u001b[0m\u001b[0mset_axis\u001b[0m\u001b[0;34m(\u001b[0m\u001b[0mcolumns\u001b[0m\u001b[0;34m=\u001b[0m\u001b[0;34m[\u001b[0m\u001b[0;34m'a'\u001b[0m\u001b[0;34m,\u001b[0m\u001b[0;34m'b'\u001b[0m\u001b[0;34m]\u001b[0m\u001b[0;34m)\u001b[0m\u001b[0;34m\u001b[0m\u001b[0;34m\u001b[0m\u001b[0m\n\u001b[0m",
      "\u001b[0;31mTypeError\u001b[0m: set_axis() got an unexpected keyword argument 'columns'"
     ]
    }
   ],
   "source": [
    "# x=pd.DataFrame(df.isnull().sum()).reset_index().set_axis(columns=['a','b'])"
   ]
  },
  {
   "cell_type": "code",
   "execution_count": 27,
   "id": "4b845d06",
   "metadata": {},
   "outputs": [],
   "source": [
    "temp=pd.DataFrame(df.isnull().sum()).reset_index().set_axis(['name','counts'],axis=1)"
   ]
  },
  {
   "cell_type": "code",
   "execution_count": 31,
   "id": "edb2e86c",
   "metadata": {},
   "outputs": [],
   "source": [
    "temp['percentage_null']=temp['counts']/df.shape[0]"
   ]
  },
  {
   "cell_type": "code",
   "execution_count": 38,
   "id": "bc498a65",
   "metadata": {},
   "outputs": [
    {
     "data": {
      "text/plain": [
       "['energy_star_rating',\n",
       " 'direction_max_wind_speed',\n",
       " 'direction_peak_wind_speed',\n",
       " 'max_wind_speed',\n",
       " 'days_with_fog']"
      ]
     },
     "execution_count": 38,
     "metadata": {},
     "output_type": "execute_result"
    }
   ],
   "source": [
    "temp.loc[temp.percentage_null>0.1].name.to_list()"
   ]
  },
  {
   "cell_type": "code",
   "execution_count": 39,
   "id": "2dd441b0",
   "metadata": {},
   "outputs": [],
   "source": [
    "columns_to_drop=temp.loc[temp.percentage_null>0.1].name.to_list()"
   ]
  },
  {
   "cell_type": "code",
   "execution_count": 40,
   "id": "18fc8064",
   "metadata": {},
   "outputs": [
    {
     "data": {
      "text/plain": [
       "['energy_star_rating',\n",
       " 'direction_max_wind_speed',\n",
       " 'direction_peak_wind_speed',\n",
       " 'max_wind_speed',\n",
       " 'days_with_fog']"
      ]
     },
     "execution_count": 40,
     "metadata": {},
     "output_type": "execute_result"
    }
   ],
   "source": [
    "columns_to_drop"
   ]
  },
  {
   "cell_type": "code",
   "execution_count": 41,
   "id": "91f2d06c",
   "metadata": {},
   "outputs": [],
   "source": [
    "total_columns=df.columns\n",
    "refined=list(set(total_columns)-set(columns_to_drop))"
   ]
  },
  {
   "cell_type": "code",
   "execution_count": 43,
   "id": "75e44765",
   "metadata": {},
   "outputs": [
    {
     "name": "stdout",
     "output_type": "stream",
     "text": [
      "<class 'pandas.core.frame.DataFrame'>\n",
      "RangeIndex: 75757 entries, 0 to 75756\n",
      "Data columns (total 59 columns):\n",
      " #   Column                Non-Null Count  Dtype  \n",
      "---  ------                --------------  -----  \n",
      " 0   days_below_20F        75757 non-null  int64  \n",
      " 1   july_avg_temp         75757 non-null  float64\n",
      " 2   october_avg_temp      75757 non-null  float64\n",
      " 3   october_min_temp      75757 non-null  int64  \n",
      " 4   august_min_temp       75757 non-null  int64  \n",
      " 5   june_avg_temp         75757 non-null  float64\n",
      " 6   june_min_temp         75757 non-null  int64  \n",
      " 7   days_above_90F        75757 non-null  int64  \n",
      " 8   may_max_temp          75757 non-null  int64  \n",
      " 9   heating_degree_days   75757 non-null  int64  \n",
      " 10  december_max_temp     75757 non-null  int64  \n",
      " 11  site_eui              75757 non-null  float64\n",
      " 12  snowfall_inches       75757 non-null  float64\n",
      " 13  october_max_temp      75757 non-null  int64  \n",
      " 14  avg_temp              75757 non-null  float64\n",
      " 15  april_max_temp        75757 non-null  int64  \n",
      " 16  snowdepth_inches      75757 non-null  int64  \n",
      " 17  State_Factor          75757 non-null  object \n",
      " 18  id                    75757 non-null  int64  \n",
      " 19  days_above_80F        75757 non-null  int64  \n",
      " 20  days_above_100F       75757 non-null  int64  \n",
      " 21  june_max_temp         75757 non-null  int64  \n",
      " 22  march_max_temp        75757 non-null  int64  \n",
      " 23  november_avg_temp     75757 non-null  float64\n",
      " 24  january_min_temp      75757 non-null  int64  \n",
      " 25  september_max_temp    75757 non-null  int64  \n",
      " 26  february_min_temp     75757 non-null  int64  \n",
      " 27  Year_Factor           75757 non-null  int64  \n",
      " 28  facility_type         75757 non-null  object \n",
      " 29  december_avg_temp     75757 non-null  float64\n",
      " 30  december_min_temp     75757 non-null  int64  \n",
      " 31  ELEVATION             75757 non-null  float64\n",
      " 32  may_min_temp          75757 non-null  int64  \n",
      " 33  march_avg_temp        75757 non-null  float64\n",
      " 34  february_max_temp     75757 non-null  int64  \n",
      " 35  days_below_10F        75757 non-null  int64  \n",
      " 36  days_below_0F         75757 non-null  int64  \n",
      " 37  floor_area            75757 non-null  float64\n",
      " 38  august_max_temp       75757 non-null  int64  \n",
      " 39  days_above_110F       75757 non-null  int64  \n",
      " 40  april_min_temp        75757 non-null  int64  \n",
      " 41  building_class        75757 non-null  object \n",
      " 42  november_max_temp     75757 non-null  int64  \n",
      " 43  january_avg_temp      75757 non-null  float64\n",
      " 44  days_below_30F        75757 non-null  int64  \n",
      " 45  may_avg_temp          75757 non-null  float64\n",
      " 46  january_max_temp      75757 non-null  int64  \n",
      " 47  cooling_degree_days   75757 non-null  int64  \n",
      " 48  july_max_temp         75757 non-null  int64  \n",
      " 49  september_min_temp    75757 non-null  int64  \n",
      " 50  february_avg_temp     75757 non-null  float64\n",
      " 51  year_built            73920 non-null  float64\n",
      " 52  july_min_temp         75757 non-null  int64  \n",
      " 53  august_avg_temp       75757 non-null  float64\n",
      " 54  precipitation_inches  75757 non-null  float64\n",
      " 55  september_avg_temp    75757 non-null  float64\n",
      " 56  march_min_temp        75757 non-null  int64  \n",
      " 57  april_avg_temp        75757 non-null  float64\n",
      " 58  november_min_temp     75757 non-null  int64  \n",
      "dtypes: float64(19), int64(37), object(3)\n",
      "memory usage: 34.1+ MB\n"
     ]
    }
   ],
   "source": [
    "df[refined].info()"
   ]
  },
  {
   "cell_type": "code",
   "execution_count": 45,
   "id": "883b96c3",
   "metadata": {},
   "outputs": [
    {
     "data": {
      "text/plain": [
       "<AxesSubplot:ylabel='site_eui'>"
      ]
     },
     "execution_count": 45,
     "metadata": {},
     "output_type": "execute_result"
    },
    {
     "data": {
      "image/png": "[encoded data removed]",
      "text/plain": [
       "<Figure size 432x288 with 1 Axes>"
      ]
     },
     "metadata": {
      "needs_background": "light"
     },
     "output_type": "display_data"
    }
   ],
   "source": [
    "sns.boxplot(y=df.site_eui)"
   ]
  },
  {
   "cell_type": "code",
   "execution_count": 51,
   "id": "d0f89d73",
   "metadata": {},
   "outputs": [],
   "source": [
    "lower,upper=df.site_eui.quantile([0,0.9])"
   ]
  },
  {
   "cell_type": "code",
   "execution_count": 52,
   "id": "14d1b54f",
   "metadata": {},
   "outputs": [
    {
     "data": {
      "text/plain": [
       "127.90011368"
      ]
     },
     "execution_count": 52,
     "metadata": {},
     "output_type": "execute_result"
    }
   ],
   "source": [
    "upper"
   ]
  },
  {
   "cell_type": "code",
   "execution_count": 53,
   "id": "fe8386f5",
   "metadata": {},
   "outputs": [],
   "source": [
    "df1=df.loc[(df.site_eui>lower) & (df.site_eui<upper)]"
   ]
  },
  {
   "cell_type": "code",
   "execution_count": 54,
   "id": "a8c8000f",
   "metadata": {},
   "outputs": [
    {
     "data": {
      "text/plain": [
       "(68180, 64)"
      ]
     },
     "execution_count": 54,
     "metadata": {},
     "output_type": "execute_result"
    }
   ],
   "source": [
    "df1.shape"
   ]
  },
  {
   "cell_type": "code",
   "execution_count": 61,
   "id": "2547c36a",
   "metadata": {},
   "outputs": [
    {
     "data": {
      "text/plain": [
       "<AxesSubplot:xlabel='building_class', ylabel='site_eui'>"
      ]
     },
     "execution_count": 61,
     "metadata": {},
     "output_type": "execute_result"
    },
    {
     "data": {
      "image/png": "[encoded data removed]",
      "text/plain": [
       "<Figure size 432x288 with 1 Axes>"
      ]
     },
     "metadata": {
      "needs_background": "light"
     },
     "output_type": "display_data"
    }
   ],
   "source": [
    "sns.violinplot(y=df1.site_eui,x=df1.building_class)"
   ]
  },
  {
   "cell_type": "code",
   "execution_count": null,
   "id": "90e37390",
   "metadata": {},
   "outputs": [],
   "source": []
  }
 ],
 "metadata": {
  "kernelspec": {
   "display_name": "Python 3",
   "language": "python",
   "name": "python3"
  },
  "language_info": {
   "codemirror_mode": {
    "name": "ipython",
    "version": 3
   },
   "file_extension": ".py",
   "mimetype": "text/x-python",
   "name": "python",
   "nbconvert_exporter": "python",
   "pygments_lexer": "ipython3",
   "version": "3.8.8"
  }
 },
 "nbformat": 4,
 "nbformat_minor": 5
}
